{
  "nbformat": 4,
  "nbformat_minor": 0,
  "metadata": {
    "colab": {
      "name": "CNNtrial.ipynb",
      "provenance": [],
      "collapsed_sections": [],
      "mount_file_id": "1KoNS_3Iwqgm0yBD-0vWoiIDS97gBS2LW",
      "authorship_tag": "ABX9TyNrkisM7cHt7mOWtJ4C0I2o",
      "include_colab_link": true
    },
    "kernelspec": {
      "name": "python3",
      "display_name": "Python 3"
    },
    "language_info": {
      "name": "python"
    }
  },
  "cells": [
    {
      "cell_type": "markdown",
      "metadata": {
        "id": "view-in-github",
        "colab_type": "text"
      },
      "source": [
        "<a href=\"https://colab.research.google.com/github/mithajose/My-WebAPP/blob/main/CNNtrial.ipynb\" target=\"_parent\"><img src=\"https://colab.research.google.com/assets/colab-badge.svg\" alt=\"Open In Colab\"/></a>"
      ]
    },
    {
      "cell_type": "code",
      "metadata": {
        "id": "li1glxgAOjWu"
      },
      "source": [
        "from keras.datasets import fashion_mnist\n",
        "(train_X,train_Y), (test_X,test_Y) = fashion_mnist.load_data()"
      ],
      "execution_count": 60,
      "outputs": []
    },
    {
      "cell_type": "code",
      "metadata": {
        "colab": {
          "base_uri": "https://localhost:8080/"
        },
        "id": "sHweoeo1Ojtb",
        "outputId": "a5c9151a-d069-48e8-db99-6e98bebcedc9"
      },
      "source": [
        "import numpy as np\n",
        "from keras.utils import to_categorical\n",
        "import matplotlib.pyplot as plt\n",
        "%matplotlib inline\n",
        "\n",
        "print('Training data shape : ', train_X.shape, train_Y.shape)\n",
        "\n",
        "print('Testing data shape : ', test_X.shape, test_Y.shape)"
      ],
      "execution_count": 61,
      "outputs": [
        {
          "output_type": "stream",
          "text": [
            "Training data shape :  (60000, 28, 28) (60000,)\n",
            "Testing data shape :  (10000, 28, 28) (10000,)\n"
          ],
          "name": "stdout"
        }
      ]
    },
    {
      "cell_type": "code",
      "metadata": {
        "colab": {
          "base_uri": "https://localhost:8080/"
        },
        "id": "1yex2sOVUv6p",
        "outputId": "0ba2d72f-0b9a-4ff3-860f-c9ac87a1e8fb"
      },
      "source": [
        "# Find the unique numbers from the train labels\n",
        "classes = np.unique(train_Y)\n",
        "nClasses = len(classes)\n",
        "print('Total number of outputs : ', nClasses)\n",
        "print('Output classes : ', classes)"
      ],
      "execution_count": 62,
      "outputs": [
        {
          "output_type": "stream",
          "text": [
            "Total number of outputs :  10\n",
            "Output classes :  [0 1 2 3 4 5 6 7 8 9]\n"
          ],
          "name": "stdout"
        }
      ]
    },
    {
      "cell_type": "code",
      "metadata": {
        "colab": {
          "base_uri": "https://localhost:8080/",
          "height": 208
        },
        "id": "XQFyIEjDU4Wl",
        "outputId": "008924ce-e19c-4e58-c882-ea7f26b4c33f"
      },
      "source": [
        "plt.figure(figsize=[5,5])\n",
        "\n",
        "# Display the first image in training data\n",
        "plt.subplot(121)\n",
        "plt.imshow(train_X[0,:,:], cmap='gray')\n",
        "plt.title(\"Ground Truth : {}\".format(train_Y[0]))\n",
        "\n",
        "# Display the first image in testing data\n",
        "plt.subplot(122)\n",
        "plt.imshow(test_X[0,:,:], cmap='gray')\n",
        "plt.title(\"Ground Truth : {}\".format(test_Y[0]))"
      ],
      "execution_count": 63,
      "outputs": [
        {
          "output_type": "execute_result",
          "data": {
            "text/plain": [
              "Text(0.5, 1.0, 'Ground Truth : 9')"
            ]
          },
          "metadata": {
            "tags": []
          },
          "execution_count": 63
        },
        {
          "output_type": "display_data",
          "data": {
            "image/png": "[encoded data removed]",
            "text/plain": [
              "<Figure size 360x360 with 2 Axes>"
            ]
          },
          "metadata": {
            "tags": [],
            "needs_background": "light"
          }
        }
      ]
    },
    {
      "cell_type": "code",
      "metadata": {
        "colab": {
          "base_uri": "https://localhost:8080/"
        },
        "id": "XfTJqf33VBZZ",
        "outputId": "4d0795a7-8cd3-48cc-e62f-b4d9e2eb8e40"
      },
      "source": [
        "train_X = train_X.reshape(-1, 28,28, 1)\n",
        "test_X = test_X.reshape(-1, 28,28, 1)\n",
        "train_X.shape, test_X.shape"
      ],
      "execution_count": 64,
      "outputs": [
        {
          "output_type": "execute_result",
          "data": {
            "text/plain": [
              "((60000, 28, 28, 1), (10000, 28, 28, 1))"
            ]
          },
          "metadata": {
            "tags": []
          },
          "execution_count": 64
        }
      ]
    },
    {
      "cell_type": "code",
      "metadata": {
        "id": "TQf9LKaDVNFF"
      },
      "source": [
        "train_X = train_X.astype('float32')\n",
        "test_X = test_X.astype('float32')\n",
        "train_X = train_X / 255.\n",
        "test_X = test_X / 255."
      ],
      "execution_count": 65,
      "outputs": []
    },
    {
      "cell_type": "code",
      "metadata": {
        "colab": {
          "base_uri": "https://localhost:8080/"
        },
        "id": "ffQkaZ48VPAt",
        "outputId": "6fb3398d-7deb-48ae-86a0-cd652ed509fc"
      },
      "source": [
        "# Change the labels from categorical to one-hot encoding\n",
        "train_Y_one_hot = to_categorical(train_Y)\n",
        "test_Y_one_hot = to_categorical(test_Y)\n",
        "\n",
        "# Display the change for category label using one-hot encoding\n",
        "print('Original label:', train_Y[0])\n",
        "print('After conversion to one-hot:', train_Y_one_hot[0])"
      ],
      "execution_count": 66,
      "outputs": [
        {
          "output_type": "stream",
          "text": [
            "Original label: 9\n",
            "After conversion to one-hot: [0. 0. 0. 0. 0. 0. 0. 0. 0. 1.]\n"
          ],
          "name": "stdout"
        }
      ]
    },
    {
      "cell_type": "code",
      "metadata": {
        "id": "QMXxRPDLVUX8"
      },
      "source": [
        "from sklearn.model_selection import train_test_split\n",
        "train_X,valid_X,train_label,valid_label = train_test_split(train_X, train_Y_one_hot, test_size=0.2, random_state=13)"
      ],
      "execution_count": 67,
      "outputs": []
    },
    {
      "cell_type": "code",
      "metadata": {
        "colab": {
          "base_uri": "https://localhost:8080/"
        },
        "id": "O4yCvo4HVaKI",
        "outputId": "e60574f5-3811-4b13-c296-80519519a7e9"
      },
      "source": [
        "train_X.shape,valid_X.shape,train_label.shape,valid_label.shape"
      ],
      "execution_count": 68,
      "outputs": [
        {
          "output_type": "execute_result",
          "data": {
            "text/plain": [
              "((48000, 28, 28, 1), (12000, 28, 28, 1), (48000, 10), (12000, 10))"
            ]
          },
          "metadata": {
            "tags": []
          },
          "execution_count": 68
        }
      ]
    },
    {
      "cell_type": "code",
      "metadata": {
        "id": "MyxF9Q1ZVexh"
      },
      "source": [
        "import keras\n",
        "from keras.models import Sequential,Input,Model\n",
        "from keras.layers import Dense, Dropout, Flatten\n",
        "from keras.layers import Conv2D, MaxPooling2D\n",
        "from keras.layers.normalization import BatchNormalization\n",
        "from keras.layers.advanced_activations import LeakyReLU"
      ],
      "execution_count": 69,
      "outputs": []
    },
    {
      "cell_type": "code",
      "metadata": {
        "id": "CewgLqGDVlRz"
      },
      "source": [
        "batch_size = 64\n",
        "epochs = 20\n",
        "num_classes = 10"
      ],
      "execution_count": 70,
      "outputs": []
    },
    {
      "cell_type": "code",
      "metadata": {
        "id": "EbPnuQZYVpqM"
      },
      "source": [
        "fashion_model = Sequential()\n",
        "fashion_model.add(Conv2D(32, kernel_size=(3, 3),activation='linear',input_shape=(28,28,1),padding='same'))\n",
        "fashion_model.add(LeakyReLU(alpha=0.1))\n",
        "fashion_model.add(MaxPooling2D((2, 2),padding='same'))\n",
        "fashion_model.add(Conv2D(64, (3, 3), activation='linear',padding='same'))\n",
        "fashion_model.add(LeakyReLU(alpha=0.1))\n",
        "fashion_model.add(MaxPooling2D(pool_size=(2, 2),padding='same'))\n",
        "fashion_model.add(Conv2D(128, (3, 3), activation='linear',padding='same'))\n",
        "fashion_model.add(LeakyReLU(alpha=0.1))                  \n",
        "fashion_model.add(MaxPooling2D(pool_size=(2, 2),padding='same'))\n",
        "fashion_model.add(Flatten())\n",
        "fashion_model.add(Dense(128, activation='linear'))\n",
        "fashion_model.add(LeakyReLU(alpha=0.1))                  \n",
        "fashion_model.add(Dense(num_classes, activation='softmax'))"
      ],
      "execution_count": 71,
      "outputs": []
    },
    {
      "cell_type": "code",
      "metadata": {
        "colab": {
          "base_uri": "https://localhost:8080/"
        },
        "id": "m139ZocwVt_W",
        "outputId": "c6bb76a3-bad2-4163-8627-c76428fce924"
      },
      "source": [
        "fashion_model.compile(loss=keras.losses.categorical_crossentropy, optimizer=keras.optimizers.Adam(),metrics=['accuracy'])\n",
        "fashion_model.summary()"
      ],
      "execution_count": 72,
      "outputs": [
        {
          "output_type": "stream",
          "text": [
            "Model: \"sequential_2\"\n",
            "_________________________________________________________________\n",
            "Layer (type)                 Output Shape              Param #   \n",
            "=================================================================\n",
            "conv2d_6 (Conv2D)            (None, 28, 28, 32)        320       \n",
            "_________________________________________________________________\n",
            "leaky_re_lu_8 (LeakyReLU)    (None, 28, 28, 32)        0         \n",
            "_________________________________________________________________\n",
            "max_pooling2d_6 (MaxPooling2 (None, 14, 14, 32)        0         \n",
            "_________________________________________________________________\n",
            "conv2d_7 (Conv2D)            (None, 14, 14, 64)        18496     \n",
            "_________________________________________________________________\n",
            "leaky_re_lu_9 (LeakyReLU)    (None, 14, 14, 64)        0         \n",
            "_________________________________________________________________\n",
            "max_pooling2d_7 (MaxPooling2 (None, 7, 7, 64)          0         \n",
            "_________________________________________________________________\n",
            "conv2d_8 (Conv2D)            (None, 7, 7, 128)         73856     \n",
            "_________________________________________________________________\n",
            "leaky_re_lu_10 (LeakyReLU)   (None, 7, 7, 128)         0         \n",
            "_________________________________________________________________\n",
            "max_pooling2d_8 (MaxPooling2 (None, 4, 4, 128)         0         \n",
            "_________________________________________________________________\n",
            "flatten_2 (Flatten)          (None, 2048)              0         \n",
            "_________________________________________________________________\n",
            "dense_4 (Dense)              (None, 128)               262272    \n",
            "_________________________________________________________________\n",
            "leaky_re_lu_11 (LeakyReLU)   (None, 128)               0         \n",
            "_________________________________________________________________\n",
            "dense_5 (Dense)              (None, 10)                1290      \n",
            "=================================================================\n",
            "Total params: 356,234\n",
            "Trainable params: 356,234\n",
            "Non-trainable params: 0\n",
            "_________________________________________________________________\n"
          ],
          "name": "stdout"
        }
      ]
    },
    {
      "cell_type": "code",
      "metadata": {
        "colab": {
          "base_uri": "https://localhost:8080/"
        },
        "id": "XD_WEY_KV0MX",
        "outputId": "196580fc-3460-4df5-dbbf-e9703a010535"
      },
      "source": [
        "fashion_train = fashion_model.fit(train_X, train_label, batch_size=batch_size,epochs=epochs,verbose=1,validation_data=(valid_X, valid_label))"
      ],
      "execution_count": 73,
      "outputs": [
        {
          "output_type": "stream",
          "text": [
            "Epoch 1/20\n",
            "750/750 [==============================] - 65s 87ms/step - loss: 0.6724 - accuracy: 0.7537 - val_loss: 0.3291 - val_accuracy: 0.8835\n",
            "Epoch 2/20\n",
            "750/750 [==============================] - 63s 84ms/step - loss: 0.2968 - accuracy: 0.8911 - val_loss: 0.2778 - val_accuracy: 0.9022\n",
            "Epoch 3/20\n",
            "750/750 [==============================] - 64s 86ms/step - loss: 0.2450 - accuracy: 0.9123 - val_loss: 0.2510 - val_accuracy: 0.9065\n",
            "Epoch 4/20\n",
            "750/750 [==============================] - 65s 86ms/step - loss: 0.2166 - accuracy: 0.9208 - val_loss: 0.2523 - val_accuracy: 0.9071\n",
            "Epoch 5/20\n",
            "750/750 [==============================] - 64s 86ms/step - loss: 0.1844 - accuracy: 0.9310 - val_loss: 0.2515 - val_accuracy: 0.9097\n",
            "Epoch 6/20\n",
            "750/750 [==============================] - 64s 86ms/step - loss: 0.1616 - accuracy: 0.9391 - val_loss: 0.2392 - val_accuracy: 0.9175\n",
            "Epoch 7/20\n",
            "750/750 [==============================] - 64s 86ms/step - loss: 0.1326 - accuracy: 0.9516 - val_loss: 0.2212 - val_accuracy: 0.9221\n",
            "Epoch 8/20\n",
            "750/750 [==============================] - 64s 85ms/step - loss: 0.1200 - accuracy: 0.9552 - val_loss: 0.2594 - val_accuracy: 0.9151\n",
            "Epoch 9/20\n",
            "750/750 [==============================] - 64s 85ms/step - loss: 0.1023 - accuracy: 0.9613 - val_loss: 0.2504 - val_accuracy: 0.9200\n",
            "Epoch 10/20\n",
            "750/750 [==============================] - 65s 86ms/step - loss: 0.0804 - accuracy: 0.9702 - val_loss: 0.2478 - val_accuracy: 0.9210\n",
            "Epoch 11/20\n",
            "750/750 [==============================] - 64s 86ms/step - loss: 0.0687 - accuracy: 0.9735 - val_loss: 0.2772 - val_accuracy: 0.9205\n",
            "Epoch 12/20\n",
            "750/750 [==============================] - 64s 85ms/step - loss: 0.0602 - accuracy: 0.9786 - val_loss: 0.3021 - val_accuracy: 0.9204\n",
            "Epoch 13/20\n",
            "750/750 [==============================] - 64s 86ms/step - loss: 0.0543 - accuracy: 0.9801 - val_loss: 0.3537 - val_accuracy: 0.9153\n",
            "Epoch 14/20\n",
            "750/750 [==============================] - 63s 84ms/step - loss: 0.0532 - accuracy: 0.9809 - val_loss: 0.3334 - val_accuracy: 0.9183\n",
            "Epoch 15/20\n",
            "750/750 [==============================] - 63s 83ms/step - loss: 0.0432 - accuracy: 0.9850 - val_loss: 0.3600 - val_accuracy: 0.9221\n",
            "Epoch 16/20\n",
            "750/750 [==============================] - 62s 82ms/step - loss: 0.0336 - accuracy: 0.9874 - val_loss: 0.3579 - val_accuracy: 0.9241\n",
            "Epoch 17/20\n",
            "750/750 [==============================] - 62s 83ms/step - loss: 0.0302 - accuracy: 0.9897 - val_loss: 0.4081 - val_accuracy: 0.9194\n",
            "Epoch 18/20\n",
            "750/750 [==============================] - 62s 83ms/step - loss: 0.0331 - accuracy: 0.9871 - val_loss: 0.4208 - val_accuracy: 0.9228\n",
            "Epoch 19/20\n",
            "750/750 [==============================] - 62s 83ms/step - loss: 0.0280 - accuracy: 0.9890 - val_loss: 0.4322 - val_accuracy: 0.9201\n",
            "Epoch 20/20\n",
            "750/750 [==============================] - 62s 83ms/step - loss: 0.0254 - accuracy: 0.9909 - val_loss: 0.4615 - val_accuracy: 0.9172\n"
          ],
          "name": "stdout"
        }
      ]
    },
    {
      "cell_type": "code",
      "metadata": {
        "colab": {
          "base_uri": "https://localhost:8080/"
        },
        "id": "yPbVO7rVV83-",
        "outputId": "9fedf900-6cc7-42a1-d9e6-1167ead8d3aa"
      },
      "source": [
        "test_eval = fashion_model.evaluate(test_X, test_Y_one_hot, verbose=0)\n",
        "print('Test loss:', test_eval[0])\n",
        "print('Test accuracy:', test_eval[1])"
      ],
      "execution_count": 74,
      "outputs": [
        {
          "output_type": "stream",
          "text": [
            "Test loss: 0.47763872146606445\n",
            "Test accuracy: 0.9143999814987183\n"
          ],
          "name": "stdout"
        }
      ]
    },
    {
      "cell_type": "code",
      "metadata": {
        "colab": {
          "base_uri": "https://localhost:8080/",
          "height": 545
        },
        "id": "uyMX_EEpWF_Z",
        "outputId": "22c453b2-4a76-41a4-bc93-49e64b88d007"
      },
      "source": [
        "accuracy = fashion_train.history['accuracy']\n",
        "val_accuracy = fashion_train.history['val_accuracy']\n",
        "loss = fashion_train.history['loss']\n",
        "val_loss = fashion_train.history['val_loss']\n",
        "epochs = range(len(accuracy))\n",
        "plt.plot(epochs, accuracy, 'bo', label='Training accuracy')\n",
        "plt.plot(epochs, val_accuracy, 'b', label='Validation accuracy')\n",
        "plt.title('Training and validation accuracy')\n",
        "plt.legend()\n",
        "plt.figure()\n",
        "plt.plot(epochs, loss, 'bo', label='Training loss')\n",
        "plt.plot(epochs, val_loss, 'b', label='Validation loss')\n",
        "plt.title('Training and validation loss')\n",
        "plt.legend()\n",
        "plt.show()"
      ],
      "execution_count": 75,
      "outputs": [
        {
          "output_type": "display_data",
          "data": {
            "image/png": "[encoded data removed]",
            "text/plain": [
              "<Figure size 432x288 with 1 Axes>"
            ]
          },
          "metadata": {
            "tags": [],
            "needs_background": "light"
          }
        },
        {
          "output_type": "display_data",
          "data": {
            "image/png": "[encoded data removed]",
            "text/plain": [
              "<Figure size 432x288 with 1 Axes>"
            ]
          },
          "metadata": {
            "tags": [],
            "needs_background": "light"
          }
        }
      ]
    },
    {
      "cell_type": "code",
      "metadata": {
        "colab": {
          "base_uri": "https://localhost:8080/"
        },
        "id": "DsxTO7XYWNsd",
        "outputId": "1c1358d7-e9d4-47dd-b660-3f155cffff9f"
      },
      "source": [
        "batch_size = 64\n",
        "epochs = 20\n",
        "num_classes = 10\n",
        "fashion_model = Sequential()\n",
        "fashion_model.add(Conv2D(32, kernel_size=(3, 3),activation='linear',padding='same',input_shape=(28,28,1)))\n",
        "fashion_model.add(LeakyReLU(alpha=0.1))\n",
        "fashion_model.add(MaxPooling2D((2, 2),padding='same'))\n",
        "fashion_model.add(Dropout(0.25))\n",
        "fashion_model.add(Conv2D(64, (3, 3), activation='linear',padding='same'))\n",
        "fashion_model.add(LeakyReLU(alpha=0.1))\n",
        "fashion_model.add(MaxPooling2D(pool_size=(2, 2),padding='same'))\n",
        "fashion_model.add(Dropout(0.25))\n",
        "fashion_model.add(Conv2D(128, (3, 3), activation='linear',padding='same'))\n",
        "fashion_model.add(LeakyReLU(alpha=0.1))                  \n",
        "fashion_model.add(MaxPooling2D(pool_size=(2, 2),padding='same'))\n",
        "fashion_model.add(Dropout(0.4))\n",
        "fashion_model.add(Flatten())\n",
        "fashion_model.add(Dense(128, activation='linear'))\n",
        "fashion_model.add(LeakyReLU(alpha=0.1))           \n",
        "fashion_model.add(Dropout(0.3))\n",
        "fashion_model.add(Dense(num_classes, activation='softmax'))\n",
        "fashion_model.summary()"
      ],
      "execution_count": 76,
      "outputs": [
        {
          "output_type": "stream",
          "text": [
            "Model: \"sequential_3\"\n",
            "_________________________________________________________________\n",
            "Layer (type)                 Output Shape              Param #   \n",
            "=================================================================\n",
            "conv2d_9 (Conv2D)            (None, 28, 28, 32)        320       \n",
            "_________________________________________________________________\n",
            "leaky_re_lu_12 (LeakyReLU)   (None, 28, 28, 32)        0         \n",
            "_________________________________________________________________\n",
            "max_pooling2d_9 (MaxPooling2 (None, 14, 14, 32)        0         \n",
            "_________________________________________________________________\n",
            "dropout_4 (Dropout)          (None, 14, 14, 32)        0         \n",
            "_________________________________________________________________\n",
            "conv2d_10 (Conv2D)           (None, 14, 14, 64)        18496     \n",
            "_________________________________________________________________\n",
            "leaky_re_lu_13 (LeakyReLU)   (None, 14, 14, 64)        0         \n",
            "_________________________________________________________________\n",
            "max_pooling2d_10 (MaxPooling (None, 7, 7, 64)          0         \n",
            "_________________________________________________________________\n",
            "dropout_5 (Dropout)          (None, 7, 7, 64)          0         \n",
            "_________________________________________________________________\n",
            "conv2d_11 (Conv2D)           (None, 7, 7, 128)         73856     \n",
            "_________________________________________________________________\n",
            "leaky_re_lu_14 (LeakyReLU)   (None, 7, 7, 128)         0         \n",
            "_________________________________________________________________\n",
            "max_pooling2d_11 (MaxPooling (None, 4, 4, 128)         0         \n",
            "_________________________________________________________________\n",
            "dropout_6 (Dropout)          (None, 4, 4, 128)         0         \n",
            "_________________________________________________________________\n",
            "flatten_3 (Flatten)          (None, 2048)              0         \n",
            "_________________________________________________________________\n",
            "dense_6 (Dense)              (None, 128)               262272    \n",
            "_________________________________________________________________\n",
            "leaky_re_lu_15 (LeakyReLU)   (None, 128)               0         \n",
            "_________________________________________________________________\n",
            "dropout_7 (Dropout)          (None, 128)               0         \n",
            "_________________________________________________________________\n",
            "dense_7 (Dense)              (None, 10)                1290      \n",
            "=================================================================\n",
            "Total params: 356,234\n",
            "Trainable params: 356,234\n",
            "Non-trainable params: 0\n",
            "_________________________________________________________________\n"
          ],
          "name": "stdout"
        }
      ]
    },
    {
      "cell_type": "code",
      "metadata": {
        "id": "E6jVjGHUWaBC"
      },
      "source": [
        "fashion_model.compile(loss=keras.losses.categorical_crossentropy, optimizer=keras.optimizers.Adam(),metrics=['accuracy'])"
      ],
      "execution_count": 77,
      "outputs": []
    },
    {
      "cell_type": "code",
      "metadata": {
        "colab": {
          "base_uri": "https://localhost:8080/"
        },
        "id": "6obrOexLWawj",
        "outputId": "7f03500f-4233-4eef-eafd-454c146464e4"
      },
      "source": [
        "fashion_train_dropout = fashion_model.fit(train_X, train_label, batch_size=batch_size,epochs=epochs,verbose=1,validation_data=(valid_X, valid_label))"
      ],
      "execution_count": null,
      "outputs": [
        {
          "output_type": "stream",
          "text": [
            "Epoch 1/20\n",
            "750/750 [==============================] - 66s 88ms/step - loss: 0.8820 - accuracy: 0.6724 - val_loss: 0.3684 - val_accuracy: 0.8637\n",
            "Epoch 2/20\n",
            "750/750 [==============================] - 66s 88ms/step - loss: 0.3937 - accuracy: 0.8562 - val_loss: 0.3045 - val_accuracy: 0.8887\n",
            "Epoch 3/20\n",
            "750/750 [==============================] - 66s 88ms/step - loss: 0.3451 - accuracy: 0.8731 - val_loss: 0.2853 - val_accuracy: 0.8951\n",
            "Epoch 4/20\n",
            "750/750 [==============================] - 66s 88ms/step - loss: 0.3024 - accuracy: 0.8875 - val_loss: 0.2804 - val_accuracy: 0.8929\n",
            "Epoch 5/20\n",
            "750/750 [==============================] - 66s 88ms/step - loss: 0.2859 - accuracy: 0.8938 - val_loss: 0.2482 - val_accuracy: 0.9073\n",
            "Epoch 6/20\n",
            "750/750 [==============================] - 66s 88ms/step - loss: 0.2743 - accuracy: 0.8969 - val_loss: 0.2423 - val_accuracy: 0.9095\n",
            "Epoch 7/20\n",
            "750/750 [==============================] - 66s 88ms/step - loss: 0.2602 - accuracy: 0.9012 - val_loss: 0.2345 - val_accuracy: 0.9147\n",
            "Epoch 8/20\n",
            "750/750 [==============================] - 66s 88ms/step - loss: 0.2448 - accuracy: 0.9087 - val_loss: 0.2302 - val_accuracy: 0.9160\n",
            "Epoch 9/20\n",
            "750/750 [==============================] - 66s 88ms/step - loss: 0.2400 - accuracy: 0.9117 - val_loss: 0.2332 - val_accuracy: 0.9141\n",
            "Epoch 10/20\n",
            "750/750 [==============================] - 66s 88ms/step - loss: 0.2327 - accuracy: 0.9124 - val_loss: 0.2227 - val_accuracy: 0.9171\n",
            "Epoch 11/20\n",
            "750/750 [==============================] - 66s 88ms/step - loss: 0.2288 - accuracy: 0.9137 - val_loss: 0.2189 - val_accuracy: 0.9178\n",
            "Epoch 12/20\n",
            "750/750 [==============================] - 66s 88ms/step - loss: 0.2193 - accuracy: 0.9180 - val_loss: 0.2107 - val_accuracy: 0.9242\n",
            "Epoch 13/20\n",
            "750/750 [==============================] - 66s 87ms/step - loss: 0.2216 - accuracy: 0.9174 - val_loss: 0.2118 - val_accuracy: 0.9229\n",
            "Epoch 14/20\n",
            "750/750 [==============================] - 66s 88ms/step - loss: 0.2125 - accuracy: 0.9197 - val_loss: 0.2104 - val_accuracy: 0.9239\n",
            "Epoch 15/20\n",
            "750/750 [==============================] - 66s 88ms/step - loss: 0.2076 - accuracy: 0.9226 - val_loss: 0.2188 - val_accuracy: 0.9222\n",
            "Epoch 16/20\n",
            "607/750 [=======================>......] - ETA: 11s - loss: 0.2040 - accuracy: 0.9216"
          ],
          "name": "stdout"
        }
      ]
    },
    {
      "cell_type": "code",
      "metadata": {
        "id": "T5s8rueCWecI"
      },
      "source": [
        "fashion_model.save(\"fashion_model_dropout.h5py\")"
      ],
      "execution_count": null,
      "outputs": []
    },
    {
      "cell_type": "markdown",
      "metadata": {
        "id": "gHhVZrITWu3Y"
      },
      "source": [
        "**Model Evaluation on the Test Set**"
      ]
    },
    {
      "cell_type": "code",
      "metadata": {
        "id": "j6pqiEeiWx3h"
      },
      "source": [
        "test_eval = fashion_model.evaluate(test_X, test_Y_one_hot, verbose=1)"
      ],
      "execution_count": null,
      "outputs": []
    },
    {
      "cell_type": "code",
      "metadata": {
        "id": "y3yn1F_EW2Wa"
      },
      "source": [
        "print('Test loss:', test_eval[0])\n",
        "print('Test accuracy:', test_eval[1])"
      ],
      "execution_count": null,
      "outputs": []
    },
    {
      "cell_type": "markdown",
      "metadata": {
        "id": "e_TYTChHW-3p"
      },
      "source": [
        "**Plot the accuracy and loss plots between training and validation data for the one last time.**"
      ]
    },
    {
      "cell_type": "code",
      "metadata": {
        "id": "rpe0gvCfXGsw"
      },
      "source": [
        "accuracy = fashion_train_dropout.history['accuracy']\n",
        "val_accuracy = fashion_train_dropout.history['val_accuracy']\n",
        "loss = fashion_train_dropout.history['loss']\n",
        "val_loss = fashion_train_dropout.history['val_loss']\n",
        "epochs = range(len(accuracy))\n",
        "plt.plot(epochs, accuracy, 'bo', label='Training accuracy')\n",
        "plt.plot(epochs, val_accuracy, 'b', label='Validation accuracy')\n",
        "plt.title('Training and validation accuracy')\n",
        "plt.legend()\n",
        "plt.figure()\n",
        "plt.plot(epochs, loss, 'bo', label='Training loss')\n",
        "plt.plot(epochs, val_loss, 'b', label='Validation loss')\n",
        "plt.title('Training and validation loss')\n",
        "plt.legend()\n",
        "plt.show()"
      ],
      "execution_count": null,
      "outputs": []
    },
    {
      "cell_type": "markdown",
      "metadata": {
        "id": "Jh72oow_XNPf"
      },
      "source": [
        "**Predict Labels**"
      ]
    },
    {
      "cell_type": "code",
      "metadata": {
        "id": "UHIfAtylXP5x"
      },
      "source": [
        "predicted_classes = fashion_model.predict(test_X)"
      ],
      "execution_count": null,
      "outputs": []
    },
    {
      "cell_type": "code",
      "metadata": {
        "id": "RYaTVB7oXacc"
      },
      "source": [
        "predicted_classes = np.argmax(np.round(predicted_classes),axis=1)\n",
        "predicted_classes.shape, test_Y.shape"
      ],
      "execution_count": null,
      "outputs": []
    },
    {
      "cell_type": "code",
      "metadata": {
        "id": "Txw7f2R0Xlgz"
      },
      "source": [
        "correct = np.where(predicted_classes==test_Y)[0]\n",
        "print (\"Found %d correct labels\" % len(correct))\n",
        "for i, correct in enumerate(correct[:9]):\n",
        "    plt.subplot(3,3,i+1)\n",
        "    plt.imshow(test_X[correct].reshape(28,28), cmap='gray', interpolation='none')\n",
        "    plt.title(\"Predicted {}, Class {}\".format(predicted_classes[correct], test_Y[correct]))\n",
        "    plt.tight_layout()"
      ],
      "execution_count": null,
      "outputs": []
    },
    {
      "cell_type": "code",
      "metadata": {
        "id": "0jjOneKwXmW5"
      },
      "source": [
        "incorrect = np.where(predicted_classes!=test_Y)[0]\n",
        "print (\"Found %d incorrect labels\" % len(incorrect))\n",
        "for i, incorrect in enumerate(incorrect[:9]):\n",
        "    plt.subplot(3,3,i+1)\n",
        "    plt.imshow(test_X[incorrect].reshape(28,28), cmap='gray', interpolation='none')\n",
        "    plt.title(\"Predicted {}, Class {}\".format(predicted_classes[incorrect], test_Y[incorrect]))\n",
        "    plt.tight_layout()"
      ],
      "execution_count": null,
      "outputs": []
    },
    {
      "cell_type": "markdown",
      "metadata": {
        "id": "Em7_Tu3zXr8V"
      },
      "source": [
        "**Classification Report** "
      ]
    },
    {
      "cell_type": "code",
      "metadata": {
        "id": "wJQ8kolWX0Di"
      },
      "source": [
        "from sklearn.metrics import classification_report\n",
        "target_names = [\"Class {}\".format(i) for i in range(num_classes)]\n",
        "print(classification_report(test_Y, predicted_classes, target_names=target_names))"
      ],
      "execution_count": null,
      "outputs": []
    }
  ]
}